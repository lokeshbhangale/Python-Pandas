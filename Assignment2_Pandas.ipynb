{
 "cells": [
  {
   "cell_type": "markdown",
   "id": "1c72e0fd-a131-4c5b-aba6-8376eb1eda06",
   "metadata": {},
   "source": [
    "# Assignment"
   ]
  },
  {
   "cell_type": "markdown",
   "id": "16615c7f-451f-47c1-b3dd-990ed317fd36",
   "metadata": {},
   "source": [
    "# Que A.\n",
    "### Read data file university_rankings.csvin pandas dataframe and basedon this data answer the following questions."
   ]
  },
  {
   "cell_type": "markdown",
   "id": "d7b43ab2-2f0c-4699-bee0-45e54f305277",
   "metadata": {},
   "source": [
    "## Que 1\n",
    "### Find out the data is for which years using the years column?"
   ]
  },
  {
   "cell_type": "code",
   "execution_count": 1,
   "id": "d5b95fe7-d757-4885-a8f3-cdb926406416",
   "metadata": {},
   "outputs": [],
   "source": [
    "import numpy as np\n",
    "import pandas as pd"
   ]
  },
  {
   "cell_type": "code",
   "execution_count": 2,
   "id": "5ee34071-40cb-4037-aa6e-e93e8fb3725c",
   "metadata": {},
   "outputs": [],
   "source": [
    "df = pd.read_csv('university_rankings.csv')"
   ]
  },
  {
   "cell_type": "code",
   "execution_count": 3,
   "id": "6a7778d4-b3b4-40f0-81ad-ddf7e9dc6060",
   "metadata": {},
   "outputs": [
    {
     "data": {
      "text/plain": [
       "array([2012, 2013, 2014, 2015], dtype=int64)"
      ]
     },
     "execution_count": 3,
     "metadata": {},
     "output_type": "execute_result"
    }
   ],
   "source": [
    "df.year.unique()"
   ]
  },
  {
   "cell_type": "markdown",
   "id": "3340a044-ed85-4594-bcc1-b6e80a0bd772",
   "metadata": {},
   "source": [
    "## Que 2\n",
    "### Find out which all columns have missing values?"
   ]
  },
  {
   "cell_type": "code",
   "execution_count": 4,
   "id": "01759dee-145d-496d-a871-baeed9a03a8e",
   "metadata": {},
   "outputs": [
    {
     "data": {
      "text/plain": [
       "world_rank                0\n",
       "institution               0\n",
       "country                   0\n",
       "national_rank             0\n",
       "quality_of_education      0\n",
       "alumni_employment         0\n",
       "quality_of_faculty        0\n",
       "publications              0\n",
       "influence                 0\n",
       "citations                 0\n",
       "broad_impact            200\n",
       "patents                   0\n",
       "score                     0\n",
       "year                      0\n",
       "dtype: int64"
      ]
     },
     "execution_count": 4,
     "metadata": {},
     "output_type": "execute_result"
    }
   ],
   "source": [
    "df.isnull().sum()"
   ]
  },
  {
   "cell_type": "markdown",
   "id": "3f501ebe-7c69-4db7-9a46-b75b3a86550a",
   "metadata": {},
   "source": [
    "## Que 3\n",
    "### Universities from how many countries are available in this data?"
   ]
  },
  {
   "cell_type": "code",
   "execution_count": 5,
   "id": "ebf38ac3-f050-4c64-96cf-62fc8cbbdb2b",
   "metadata": {},
   "outputs": [
    {
     "data": {
      "text/plain": [
       "59"
      ]
     },
     "execution_count": 5,
     "metadata": {},
     "output_type": "execute_result"
    }
   ],
   "source": [
    "df.country.nunique()"
   ]
  },
  {
   "cell_type": "markdown",
   "id": "6fd440a0-eeb7-4320-b89f-399ed5f7a736",
   "metadata": {},
   "source": [
    "## Que 4\n",
    "### Which country has the highest number of universities for 2015?"
   ]
  },
  {
   "cell_type": "code",
   "execution_count": 6,
   "id": "f53dbb7d-9e0a-421f-b109-3641839d1589",
   "metadata": {},
   "outputs": [],
   "source": [
    "x = df[df.year==2015]"
   ]
  },
  {
   "cell_type": "code",
   "execution_count": 7,
   "id": "ea4429bc-c6ce-47f4-8fa1-f1a5ed9809e1",
   "metadata": {},
   "outputs": [
    {
     "data": {
      "text/plain": [
       "USA    229\n",
       "Name: country, dtype: int64"
      ]
     },
     "execution_count": 7,
     "metadata": {},
     "output_type": "execute_result"
    }
   ],
   "source": [
    "x.country.value_counts().head(1)"
   ]
  },
  {
   "cell_type": "markdown",
   "id": "399feac1-57ab-4b6b-b9a7-98214a3aba62",
   "metadata": {},
   "source": [
    "## Que5\n",
    "### Find out the top 10 Institute in terms of number of publications for 2014?"
   ]
  },
  {
   "cell_type": "code",
   "execution_count": 8,
   "id": "2a4cd19c-1c47-47dc-91d2-6db76b9d6f30",
   "metadata": {},
   "outputs": [],
   "source": [
    "y=df[df.year==2014]"
   ]
  },
  {
   "cell_type": "code",
   "execution_count": 9,
   "id": "60475bd0-3082-4d6d-9f63-e0ec30335a4b",
   "metadata": {},
   "outputs": [
    {
     "data": {
      "text/html": [
       "<div>\n",
       "<style scoped>\n",
       "    .dataframe tbody tr th:only-of-type {\n",
       "        vertical-align: middle;\n",
       "    }\n",
       "\n",
       "    .dataframe tbody tr th {\n",
       "        vertical-align: top;\n",
       "    }\n",
       "\n",
       "    .dataframe thead th {\n",
       "        text-align: right;\n",
       "    }\n",
       "</style>\n",
       "<table border=\"1\" class=\"dataframe\">\n",
       "  <thead>\n",
       "    <tr style=\"text-align: right;\">\n",
       "      <th></th>\n",
       "      <th>world_rank</th>\n",
       "      <th>institution</th>\n",
       "      <th>country</th>\n",
       "      <th>national_rank</th>\n",
       "      <th>quality_of_education</th>\n",
       "      <th>alumni_employment</th>\n",
       "      <th>quality_of_faculty</th>\n",
       "      <th>publications</th>\n",
       "      <th>influence</th>\n",
       "      <th>citations</th>\n",
       "      <th>broad_impact</th>\n",
       "      <th>patents</th>\n",
       "      <th>score</th>\n",
       "      <th>year</th>\n",
       "    </tr>\n",
       "  </thead>\n",
       "  <tbody>\n",
       "    <tr>\n",
       "      <th>1019</th>\n",
       "      <td>820</td>\n",
       "      <td>National University of Ireland, Maynooth</td>\n",
       "      <td>Ireland</td>\n",
       "      <td>7</td>\n",
       "      <td>215</td>\n",
       "      <td>478</td>\n",
       "      <td>210</td>\n",
       "      <td>1000</td>\n",
       "      <td>716</td>\n",
       "      <td>800</td>\n",
       "      <td>800.0</td>\n",
       "      <td>552</td>\n",
       "      <td>44.49</td>\n",
       "      <td>2014</td>\n",
       "    </tr>\n",
       "    <tr>\n",
       "      <th>1176</th>\n",
       "      <td>977</td>\n",
       "      <td>University of Puerto Rico at Mayagüez</td>\n",
       "      <td>Puerto Rico</td>\n",
       "      <td>1</td>\n",
       "      <td>355</td>\n",
       "      <td>478</td>\n",
       "      <td>210</td>\n",
       "      <td>999</td>\n",
       "      <td>778</td>\n",
       "      <td>609</td>\n",
       "      <td>956.0</td>\n",
       "      <td>737</td>\n",
       "      <td>44.29</td>\n",
       "      <td>2014</td>\n",
       "    </tr>\n",
       "    <tr>\n",
       "      <th>938</th>\n",
       "      <td>739</td>\n",
       "      <td>University of Évry Val d'Essonne</td>\n",
       "      <td>France</td>\n",
       "      <td>34</td>\n",
       "      <td>355</td>\n",
       "      <td>478</td>\n",
       "      <td>210</td>\n",
       "      <td>998</td>\n",
       "      <td>363</td>\n",
       "      <td>609</td>\n",
       "      <td>628.0</td>\n",
       "      <td>737</td>\n",
       "      <td>44.59</td>\n",
       "      <td>2014</td>\n",
       "    </tr>\n",
       "    <tr>\n",
       "      <th>1169</th>\n",
       "      <td>970</td>\n",
       "      <td>University of Seoul</td>\n",
       "      <td>South Korea</td>\n",
       "      <td>34</td>\n",
       "      <td>355</td>\n",
       "      <td>478</td>\n",
       "      <td>210</td>\n",
       "      <td>997</td>\n",
       "      <td>938</td>\n",
       "      <td>609</td>\n",
       "      <td>948.0</td>\n",
       "      <td>552</td>\n",
       "      <td>44.30</td>\n",
       "      <td>2014</td>\n",
       "    </tr>\n",
       "    <tr>\n",
       "      <th>722</th>\n",
       "      <td>523</td>\n",
       "      <td>École Centrale Paris</td>\n",
       "      <td>France</td>\n",
       "      <td>21</td>\n",
       "      <td>355</td>\n",
       "      <td>108</td>\n",
       "      <td>210</td>\n",
       "      <td>995</td>\n",
       "      <td>837</td>\n",
       "      <td>800</td>\n",
       "      <td>923.0</td>\n",
       "      <td>637</td>\n",
       "      <td>45.03</td>\n",
       "      <td>2014</td>\n",
       "    </tr>\n",
       "    <tr>\n",
       "      <th>1148</th>\n",
       "      <td>949</td>\n",
       "      <td>Ibaraki University</td>\n",
       "      <td>Japan</td>\n",
       "      <td>74</td>\n",
       "      <td>355</td>\n",
       "      <td>478</td>\n",
       "      <td>210</td>\n",
       "      <td>995</td>\n",
       "      <td>439</td>\n",
       "      <td>609</td>\n",
       "      <td>917.0</td>\n",
       "      <td>737</td>\n",
       "      <td>44.33</td>\n",
       "      <td>2014</td>\n",
       "    </tr>\n",
       "    <tr>\n",
       "      <th>1162</th>\n",
       "      <td>963</td>\n",
       "      <td>University of Chemistry and Technology, Prague</td>\n",
       "      <td>Czech Republic</td>\n",
       "      <td>5</td>\n",
       "      <td>355</td>\n",
       "      <td>478</td>\n",
       "      <td>210</td>\n",
       "      <td>994</td>\n",
       "      <td>871</td>\n",
       "      <td>800</td>\n",
       "      <td>923.0</td>\n",
       "      <td>737</td>\n",
       "      <td>44.31</td>\n",
       "      <td>2014</td>\n",
       "    </tr>\n",
       "    <tr>\n",
       "      <th>822</th>\n",
       "      <td>623</td>\n",
       "      <td>Albany Medical College</td>\n",
       "      <td>USA</td>\n",
       "      <td>181</td>\n",
       "      <td>142</td>\n",
       "      <td>478</td>\n",
       "      <td>210</td>\n",
       "      <td>993</td>\n",
       "      <td>753</td>\n",
       "      <td>609</td>\n",
       "      <td>605.0</td>\n",
       "      <td>737</td>\n",
       "      <td>44.76</td>\n",
       "      <td>2014</td>\n",
       "    </tr>\n",
       "    <tr>\n",
       "      <th>1034</th>\n",
       "      <td>835</td>\n",
       "      <td>Queens College, City University of New York</td>\n",
       "      <td>USA</td>\n",
       "      <td>219</td>\n",
       "      <td>303</td>\n",
       "      <td>368</td>\n",
       "      <td>210</td>\n",
       "      <td>992</td>\n",
       "      <td>669</td>\n",
       "      <td>800</td>\n",
       "      <td>869.0</td>\n",
       "      <td>637</td>\n",
       "      <td>44.46</td>\n",
       "      <td>2014</td>\n",
       "    </tr>\n",
       "    <tr>\n",
       "      <th>737</th>\n",
       "      <td>538</td>\n",
       "      <td>University of Dayton</td>\n",
       "      <td>USA</td>\n",
       "      <td>169</td>\n",
       "      <td>335</td>\n",
       "      <td>140</td>\n",
       "      <td>210</td>\n",
       "      <td>991</td>\n",
       "      <td>796</td>\n",
       "      <td>609</td>\n",
       "      <td>783.0</td>\n",
       "      <td>552</td>\n",
       "      <td>44.99</td>\n",
       "      <td>2014</td>\n",
       "    </tr>\n",
       "  </tbody>\n",
       "</table>\n",
       "</div>"
      ],
      "text/plain": [
       "      world_rank                                     institution  \\\n",
       "1019         820        National University of Ireland, Maynooth   \n",
       "1176         977           University of Puerto Rico at Mayagüez   \n",
       "938          739                University of Évry Val d'Essonne   \n",
       "1169         970                             University of Seoul   \n",
       "722          523                            École Centrale Paris   \n",
       "1148         949                              Ibaraki University   \n",
       "1162         963  University of Chemistry and Technology, Prague   \n",
       "822          623                          Albany Medical College   \n",
       "1034         835     Queens College, City University of New York   \n",
       "737          538                            University of Dayton   \n",
       "\n",
       "             country  national_rank  quality_of_education  alumni_employment  \\\n",
       "1019         Ireland              7                   215                478   \n",
       "1176     Puerto Rico              1                   355                478   \n",
       "938           France             34                   355                478   \n",
       "1169     South Korea             34                   355                478   \n",
       "722           France             21                   355                108   \n",
       "1148           Japan             74                   355                478   \n",
       "1162  Czech Republic              5                   355                478   \n",
       "822              USA            181                   142                478   \n",
       "1034             USA            219                   303                368   \n",
       "737              USA            169                   335                140   \n",
       "\n",
       "      quality_of_faculty  publications  influence  citations  broad_impact  \\\n",
       "1019                 210          1000        716        800         800.0   \n",
       "1176                 210           999        778        609         956.0   \n",
       "938                  210           998        363        609         628.0   \n",
       "1169                 210           997        938        609         948.0   \n",
       "722                  210           995        837        800         923.0   \n",
       "1148                 210           995        439        609         917.0   \n",
       "1162                 210           994        871        800         923.0   \n",
       "822                  210           993        753        609         605.0   \n",
       "1034                 210           992        669        800         869.0   \n",
       "737                  210           991        796        609         783.0   \n",
       "\n",
       "      patents  score  year  \n",
       "1019      552  44.49  2014  \n",
       "1176      737  44.29  2014  \n",
       "938       737  44.59  2014  \n",
       "1169      552  44.30  2014  \n",
       "722       637  45.03  2014  \n",
       "1148      737  44.33  2014  \n",
       "1162      737  44.31  2014  \n",
       "822       737  44.76  2014  \n",
       "1034      637  44.46  2014  \n",
       "737       552  44.99  2014  "
      ]
     },
     "execution_count": 9,
     "metadata": {},
     "output_type": "execute_result"
    }
   ],
   "source": [
    "y.sort_values('publications', ascending=False).head(10)"
   ]
  },
  {
   "cell_type": "markdown",
   "id": "7ea361bb-c235-4780-ad92-b8348aec9425",
   "metadata": {},
   "source": [
    "## Que 6\n",
    "### How many Institutes from India are available in this data in each year?"
   ]
  },
  {
   "cell_type": "code",
   "execution_count": 10,
   "id": "52917ecb-877c-4a57-8bfc-53e6f7dd2f2e",
   "metadata": {},
   "outputs": [],
   "source": [
    "a=pd.crosstab(df.country=='India', df.year)"
   ]
  },
  {
   "cell_type": "code",
   "execution_count": 11,
   "id": "4df8261f-386b-4fa9-871f-556c807a1019",
   "metadata": {},
   "outputs": [
    {
     "data": {
      "text/html": [
       "<div>\n",
       "<style scoped>\n",
       "    .dataframe tbody tr th:only-of-type {\n",
       "        vertical-align: middle;\n",
       "    }\n",
       "\n",
       "    .dataframe tbody tr th {\n",
       "        vertical-align: top;\n",
       "    }\n",
       "\n",
       "    .dataframe thead th {\n",
       "        text-align: right;\n",
       "    }\n",
       "</style>\n",
       "<table border=\"1\" class=\"dataframe\">\n",
       "  <thead>\n",
       "    <tr style=\"text-align: right;\">\n",
       "      <th>year</th>\n",
       "      <th>2012</th>\n",
       "      <th>2013</th>\n",
       "      <th>2014</th>\n",
       "      <th>2015</th>\n",
       "    </tr>\n",
       "    <tr>\n",
       "      <th>country</th>\n",
       "      <th></th>\n",
       "      <th></th>\n",
       "      <th></th>\n",
       "      <th></th>\n",
       "    </tr>\n",
       "  </thead>\n",
       "  <tbody>\n",
       "    <tr>\n",
       "      <th>False</th>\n",
       "      <td>100</td>\n",
       "      <td>100</td>\n",
       "      <td>985</td>\n",
       "      <td>984</td>\n",
       "    </tr>\n",
       "    <tr>\n",
       "      <th>True</th>\n",
       "      <td>0</td>\n",
       "      <td>0</td>\n",
       "      <td>15</td>\n",
       "      <td>16</td>\n",
       "    </tr>\n",
       "  </tbody>\n",
       "</table>\n",
       "</div>"
      ],
      "text/plain": [
       "year     2012  2013  2014  2015\n",
       "country                        \n",
       "False     100   100   985   984\n",
       "True        0     0    15    16"
      ]
     },
     "execution_count": 11,
     "metadata": {},
     "output_type": "execute_result"
    }
   ],
   "source": [
    "a"
   ]
  },
  {
   "cell_type": "markdown",
   "id": "28f5e877-d371-41ae-9808-81049f608dbe",
   "metadata": {},
   "source": [
    "## Que 7\n",
    "### Plot a bar graph showing the number of universities from each country for 2012"
   ]
  },
  {
   "cell_type": "code",
   "execution_count": 12,
   "id": "0851d031-6326-46ac-86ca-932ec38fe244",
   "metadata": {},
   "outputs": [],
   "source": [
    "p=df[df.year==2012]"
   ]
  },
  {
   "cell_type": "code",
   "execution_count": 13,
   "id": "6805a09b-4c60-4d16-8d4d-9dec1d29bde6",
   "metadata": {},
   "outputs": [
    {
     "data": {
      "text/plain": [
       "Harvard University                                 1\n",
       "Pennsylvania State University, University Park     1\n",
       "Nagoya University                                  1\n",
       "Texas A&M University, College Station              1\n",
       "Rutgers University-New Brunswick                   1\n",
       "                                                  ..\n",
       "University College London                          1\n",
       "University of Texas at Austin                      1\n",
       "University of Texas Southwestern Medical Center    1\n",
       "Imperial College London                            1\n",
       "Mines ParisTech                                    1\n",
       "Name: institution, Length: 100, dtype: int64"
      ]
     },
     "execution_count": 13,
     "metadata": {},
     "output_type": "execute_result"
    }
   ],
   "source": [
    "p.institution.value_counts()"
   ]
  },
  {
   "cell_type": "code",
   "execution_count": 14,
   "id": "a594b3e3-7b54-4218-88c7-90c3b3c3aca0",
   "metadata": {},
   "outputs": [
    {
     "data": {
      "text/plain": [
       "<AxesSubplot: >"
      ]
     },
     "execution_count": 14,
     "metadata": {},
     "output_type": "execute_result"
    },
    {
     "data": {
      "image/png": "[encoded data removed]",
      "text/plain": [
       "<Figure size 640x480 with 1 Axes>"
      ]
     },
     "metadata": {},
     "output_type": "display_data"
    }
   ],
   "source": [
    "p.country.value_counts().plot(kind='bar')"
   ]
  },
  {
   "cell_type": "markdown",
   "id": "5ee9494c-5673-4033-8b33-970aefe96549",
   "metadata": {},
   "source": [
    "# Que B\n",
    "### Data filecovid19_testing.csvcontains dataof covid-19 testing, for theyear 2020, done in various States and Union Territories of India."
   ]
  },
  {
   "cell_type": "markdown",
   "id": "af764d27-c0cc-40f9-87cb-30e65577fc89",
   "metadata": {},
   "source": [
    "## Que 1\n",
    "### Check the last seven rows for Karnataka."
   ]
  },
  {
   "cell_type": "code",
   "execution_count": 15,
   "id": "4e522802-299a-4aa5-86ff-67a50e8bc9e2",
   "metadata": {},
   "outputs": [],
   "source": [
    "b = pd.read_csv('covid19_testing.csv')"
   ]
  },
  {
   "cell_type": "code",
   "execution_count": 16,
   "id": "f4ef49be-f7bc-440c-880d-0542eed1eff2",
   "metadata": {},
   "outputs": [
    {
     "data": {
      "text/html": [
       "<div>\n",
       "<style scoped>\n",
       "    .dataframe tbody tr th:only-of-type {\n",
       "        vertical-align: middle;\n",
       "    }\n",
       "\n",
       "    .dataframe tbody tr th {\n",
       "        vertical-align: top;\n",
       "    }\n",
       "\n",
       "    .dataframe thead th {\n",
       "        text-align: right;\n",
       "    }\n",
       "</style>\n",
       "<table border=\"1\" class=\"dataframe\">\n",
       "  <thead>\n",
       "    <tr style=\"text-align: right;\">\n",
       "      <th></th>\n",
       "      <th>Month</th>\n",
       "      <th>Date</th>\n",
       "      <th>State</th>\n",
       "      <th>TotalSamples</th>\n",
       "      <th>Negative</th>\n",
       "      <th>Positive</th>\n",
       "    </tr>\n",
       "  </thead>\n",
       "  <tbody>\n",
       "    <tr>\n",
       "      <th>1473</th>\n",
       "      <td>7</td>\n",
       "      <td>16</td>\n",
       "      <td>Karnataka</td>\n",
       "      <td>925477</td>\n",
       "      <td>850593</td>\n",
       "      <td>51422</td>\n",
       "    </tr>\n",
       "    <tr>\n",
       "      <th>1474</th>\n",
       "      <td>7</td>\n",
       "      <td>17</td>\n",
       "      <td>Karnataka</td>\n",
       "      <td>953417</td>\n",
       "      <td>870466</td>\n",
       "      <td>55115</td>\n",
       "    </tr>\n",
       "    <tr>\n",
       "      <th>1475</th>\n",
       "      <td>7</td>\n",
       "      <td>18</td>\n",
       "      <td>Karnataka</td>\n",
       "      <td>982701</td>\n",
       "      <td>899016</td>\n",
       "      <td>59652</td>\n",
       "    </tr>\n",
       "    <tr>\n",
       "      <th>1476</th>\n",
       "      <td>7</td>\n",
       "      <td>19</td>\n",
       "      <td>Karnataka</td>\n",
       "      <td>999530</td>\n",
       "      <td>927945</td>\n",
       "      <td>63772</td>\n",
       "    </tr>\n",
       "    <tr>\n",
       "      <th>1477</th>\n",
       "      <td>7</td>\n",
       "      <td>20</td>\n",
       "      <td>Karnataka</td>\n",
       "      <td>1025420</td>\n",
       "      <td>958311</td>\n",
       "      <td>67420</td>\n",
       "    </tr>\n",
       "    <tr>\n",
       "      <th>1478</th>\n",
       "      <td>7</td>\n",
       "      <td>21</td>\n",
       "      <td>Karnataka</td>\n",
       "      <td>1051976</td>\n",
       "      <td>963725</td>\n",
       "      <td>71069</td>\n",
       "    </tr>\n",
       "    <tr>\n",
       "      <th>1479</th>\n",
       "      <td>7</td>\n",
       "      <td>22</td>\n",
       "      <td>Karnataka</td>\n",
       "      <td>1079749</td>\n",
       "      <td>1002045</td>\n",
       "      <td>75833</td>\n",
       "    </tr>\n",
       "  </tbody>\n",
       "</table>\n",
       "</div>"
      ],
      "text/plain": [
       "      Month  Date      State  TotalSamples Negative  Positive\n",
       "1473      7    16  Karnataka        925477   850593     51422\n",
       "1474      7    17  Karnataka        953417   870466     55115\n",
       "1475      7    18  Karnataka        982701   899016     59652\n",
       "1476      7    19  Karnataka        999530   927945     63772\n",
       "1477      7    20  Karnataka       1025420   958311     67420\n",
       "1478      7    21  Karnataka       1051976   963725     71069\n",
       "1479      7    22  Karnataka       1079749  1002045     75833"
      ]
     },
     "execution_count": 16,
     "metadata": {},
     "output_type": "execute_result"
    }
   ],
   "source": [
    "b[b.State=='Karnataka'].tail(7)"
   ]
  },
  {
   "cell_type": "markdown",
   "id": "e0423a78-957f-4bfd-8807-15bac5e141b6",
   "metadata": {},
   "source": [
    "## Que 2\n",
    "### Find out for how many days data is present in the dataset for states - Tripura andJharkhand."
   ]
  },
  {
   "cell_type": "code",
   "execution_count": 17,
   "id": "bdafdff7-6271-4bf8-b9f6-b8f4c202d1d5",
   "metadata": {},
   "outputs": [],
   "source": [
    "t=b[b.State.isin(['Tripura','Jharkhand'])]"
   ]
  },
  {
   "cell_type": "code",
   "execution_count": 18,
   "id": "8d263575-631e-479d-8a2d-fc8c70d3bfa8",
   "metadata": {},
   "outputs": [
    {
     "data": {
      "text/plain": [
       "585"
      ]
     },
     "execution_count": 18,
     "metadata": {},
     "output_type": "execute_result"
    }
   ],
   "source": [
    "t.Date.count()"
   ]
  },
  {
   "cell_type": "markdown",
   "id": "3edb76de-fed0-4733-bf40-b69eb230010b",
   "metadata": {},
   "source": [
    "## Que 3\n",
    "### On which day the total number of positive cases crossed the mark of 1 lakh in Maharashtra?"
   ]
  },
  {
   "cell_type": "code",
   "execution_count": 19,
   "id": "667e8ad5-b99e-488c-9ca7-bcb7aae18d29",
   "metadata": {},
   "outputs": [],
   "source": [
    "m = b[b.State.isin(['Maharashtra'])]"
   ]
  },
  {
   "cell_type": "code",
   "execution_count": 53,
   "id": "b397051a-483b-4e83-8128-7f79ed0941fe",
   "metadata": {},
   "outputs": [],
   "source": [
    "m=m[m.Positive>100000].head(1)"
   ]
  },
  {
   "cell_type": "code",
   "execution_count": 54,
   "id": "98056080-10a9-4c2d-a851-3dc7b72af12d",
   "metadata": {},
   "outputs": [
    {
     "name": "stdout",
     "output_type": "stream",
     "text": [
      "13\n"
     ]
    }
   ],
   "source": [
    "for i in m.Date:\n",
    "    print(i)"
   ]
  },
  {
   "cell_type": "markdown",
   "id": "78d68118-2251-4a7c-9af1-c060c0e04fa8",
   "metadata": {},
   "source": [
    "## Que 4\n",
    "### In the year 2020, which state has tested the highest number of samples?"
   ]
  },
  {
   "cell_type": "code",
   "execution_count": 22,
   "id": "f39312c8-0c94-4fb3-bf2b-9353522d0ba3",
   "metadata": {},
   "outputs": [],
   "source": [
    "s=b.sort_values('TotalSamples', ascending=False).head(1)"
   ]
  },
  {
   "cell_type": "code",
   "execution_count": 55,
   "id": "01cd8ff0-4fd0-425f-ae3f-578927fe802c",
   "metadata": {},
   "outputs": [
    {
     "name": "stdout",
     "output_type": "stream",
     "text": [
      "Maharashtra\n"
     ]
    }
   ],
   "source": [
    "for i in s.State:\n",
    "    print(i)"
   ]
  },
  {
   "cell_type": "markdown",
   "id": "eb81c0b6-0a4b-44bf-af75-d28c0f5c1237",
   "metadata": {},
   "source": [
    "## Que 5\n",
    "### In the year 2020, which state/UT has tested the lowest number of samples?"
   ]
  },
  {
   "cell_type": "code",
   "execution_count": 24,
   "id": "4e069dd5-8182-4b5e-84a8-5bc6199939bd",
   "metadata": {},
   "outputs": [],
   "source": [
    "l=b.sort_values('TotalSamples').head(1)"
   ]
  },
  {
   "cell_type": "code",
   "execution_count": 56,
   "id": "36407ea7-d10b-4292-b9aa-2e271b15b93f",
   "metadata": {},
   "outputs": [
    {
     "name": "stdout",
     "output_type": "stream",
     "text": [
      "Mizoram\n"
     ]
    }
   ],
   "source": [
    "for i in l.State:\n",
    "    print(i)"
   ]
  }
 ],
 "metadata": {
  "kernelspec": {
   "display_name": "Python 3 (ipykernel)",
   "language": "python",
   "name": "python3"
  },
  "language_info": {
   "codemirror_mode": {
    "name": "ipython",
    "version": 3
   },
   "file_extension": ".py",
   "mimetype": "text/x-python",
   "name": "python",
   "nbconvert_exporter": "python",
   "pygments_lexer": "ipython3",
   "version": "3.9.12"
  }
 },
 "nbformat": 4,
 "nbformat_minor": 5
}
