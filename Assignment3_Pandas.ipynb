{
 "cells": [
  {
   "cell_type": "markdown",
   "id": "d12e5b8f-b162-4c9a-ab1a-352a0b74f35f",
   "metadata": {},
   "source": [
    "# Assignment 8"
   ]
  },
  {
   "cell_type": "markdown",
   "id": "88372bdc-3fc7-4607-96e9-fa3a9fd593cb",
   "metadata": {},
   "source": [
    "## Que - Download a tabular dataset of your choice from the internet and perform Exploratory Data Analysis on it."
   ]
  },
  {
   "cell_type": "markdown",
   "id": "0aad1b97-ffc4-44eb-8c51-5db83cf87adf",
   "metadata": {},
   "source": [
    "### Dataset source: UCI Machine Learning Repository"
   ]
  },
  {
   "cell_type": "code",
   "execution_count": 1,
   "id": "9fce9b24-c889-4dbf-a65f-ad648635ccd8",
   "metadata": {},
   "outputs": [],
   "source": [
    "import numpy as np\n",
    "import pandas as pd"
   ]
  },
  {
   "cell_type": "code",
   "execution_count": 2,
   "id": "fe627884-69a5-41de-b643-6c6bb01a55b1",
   "metadata": {},
   "outputs": [],
   "source": [
    "df= pd.read_csv('Tetuan_city_power_consumption.csv')"
   ]
  },
  {
   "cell_type": "code",
   "execution_count": 3,
   "id": "6dad053d-74a1-4268-9ecd-2f259bc62e88",
   "metadata": {},
   "outputs": [
    {
     "data": {
      "text/plain": [
       "Index(['DateTime', 'Temperature', 'Humidity', 'Wind Speed',\n",
       "       'general diffuse flows', 'diffuse flows', 'Zone 1 Power Consumption',\n",
       "       'Zone 2  Power Consumption', 'Zone 3  Power Consumption'],\n",
       "      dtype='object')"
      ]
     },
     "execution_count": 3,
     "metadata": {},
     "output_type": "execute_result"
    }
   ],
   "source": [
    "df.columns"
   ]
  },
  {
   "cell_type": "code",
   "execution_count": 4,
   "id": "ecd13c87-2983-4ea4-96c3-de25b67e36c9",
   "metadata": {},
   "outputs": [],
   "source": [
    "df['Date'] = pd.to_datetime(df['DateTime']).dt.date"
   ]
  },
  {
   "cell_type": "code",
   "execution_count": 5,
   "id": "7360d6f3-b29d-4224-a124-0b9050ffcd68",
   "metadata": {},
   "outputs": [],
   "source": [
    "df['Time'] = pd.to_datetime(df['DateTime']).dt.time"
   ]
  },
  {
   "cell_type": "markdown",
   "id": "b719ddb6-6c15-4649-bdf1-fc0de1eb0446",
   "metadata": {},
   "source": [
    "### Que  - Describe mean temperature for 2017"
   ]
  },
  {
   "cell_type": "code",
   "execution_count": 8,
   "id": "625843ec-e225-4931-9057-d537245afd94",
   "metadata": {},
   "outputs": [
    {
     "data": {
      "text/plain": [
       "14.41"
      ]
     },
     "execution_count": 8,
     "metadata": {},
     "output_type": "execute_result"
    }
   ],
   "source": [
    "df.describe().loc['25%', 'Temperature']"
   ]
  },
  {
   "cell_type": "markdown",
   "id": "53dcab40-5f60-4ff2-86b8-8844fc155ade",
   "metadata": {},
   "source": [
    "### Que - What is the highest power consumption for zone 1, zone 2, zone 3"
   ]
  },
  {
   "cell_type": "code",
   "execution_count": 13,
   "id": "2b6832a5-994c-4776-9d04-c92067c404cf",
   "metadata": {},
   "outputs": [],
   "source": [
    "h=df.sort_values(['Zone 1 Power Consumption','Zone 2  Power Consumption','Zone 3  Power Consumption'], ascending=False).head(1)"
   ]
  },
  {
   "cell_type": "code",
   "execution_count": 14,
   "id": "fa7c1308-c95b-42fc-9c3f-2d990aec5c77",
   "metadata": {},
   "outputs": [
    {
     "data": {
      "text/html": [
       "<div>\n",
       "<style scoped>\n",
       "    .dataframe tbody tr th:only-of-type {\n",
       "        vertical-align: middle;\n",
       "    }\n",
       "\n",
       "    .dataframe tbody tr th {\n",
       "        vertical-align: top;\n",
       "    }\n",
       "\n",
       "    .dataframe thead th {\n",
       "        text-align: right;\n",
       "    }\n",
       "</style>\n",
       "<table border=\"1\" class=\"dataframe\">\n",
       "  <thead>\n",
       "    <tr style=\"text-align: right;\">\n",
       "      <th></th>\n",
       "      <th>Zone 1 Power Consumption</th>\n",
       "      <th>Zone 2  Power Consumption</th>\n",
       "      <th>Zone 3  Power Consumption</th>\n",
       "    </tr>\n",
       "  </thead>\n",
       "  <tbody>\n",
       "    <tr>\n",
       "      <th>31514</th>\n",
       "      <td>52204.39512</td>\n",
       "      <td>36129.25026</td>\n",
       "      <td>41018.18182</td>\n",
       "    </tr>\n",
       "  </tbody>\n",
       "</table>\n",
       "</div>"
      ],
      "text/plain": [
       "       Zone 1 Power Consumption  Zone 2  Power Consumption  \\\n",
       "31514               52204.39512                36129.25026   \n",
       "\n",
       "       Zone 3  Power Consumption  \n",
       "31514                41018.18182  "
      ]
     },
     "execution_count": 14,
     "metadata": {},
     "output_type": "execute_result"
    }
   ],
   "source": [
    "h.loc[:,['Zone 1 Power Consumption','Zone 2  Power Consumption','Zone 3  Power Consumption']]"
   ]
  },
  {
   "cell_type": "markdown",
   "id": "1e0f5c79-6369-4764-9ccf-d0251817173d",
   "metadata": {},
   "source": [
    "### Que - Date at which humidity was in between 70 to 70.1 with first 10"
   ]
  },
  {
   "cell_type": "code",
   "execution_count": 25,
   "id": "d679765e-43c8-43e1-8322-12344bd8b117",
   "metadata": {},
   "outputs": [],
   "source": [
    "b = df[(df.Humidity >=70) & (df.Humidity<=70.1)].head(10)"
   ]
  },
  {
   "cell_type": "code",
   "execution_count": 26,
   "id": "1b35d2af-d07e-4526-89da-4e992cbc7605",
   "metadata": {},
   "outputs": [
    {
     "data": {
      "text/html": [
       "<div>\n",
       "<style scoped>\n",
       "    .dataframe tbody tr th:only-of-type {\n",
       "        vertical-align: middle;\n",
       "    }\n",
       "\n",
       "    .dataframe tbody tr th {\n",
       "        vertical-align: top;\n",
       "    }\n",
       "\n",
       "    .dataframe thead th {\n",
       "        text-align: right;\n",
       "    }\n",
       "</style>\n",
       "<table border=\"1\" class=\"dataframe\">\n",
       "  <thead>\n",
       "    <tr style=\"text-align: right;\">\n",
       "      <th></th>\n",
       "      <th>DateTime</th>\n",
       "      <th>Temperature</th>\n",
       "      <th>Humidity</th>\n",
       "      <th>Wind Speed</th>\n",
       "      <th>general diffuse flows</th>\n",
       "      <th>diffuse flows</th>\n",
       "      <th>Zone 1 Power Consumption</th>\n",
       "      <th>Zone 2  Power Consumption</th>\n",
       "      <th>Zone 3  Power Consumption</th>\n",
       "      <th>Date</th>\n",
       "      <th>Time</th>\n",
       "    </tr>\n",
       "  </thead>\n",
       "  <tbody>\n",
       "    <tr>\n",
       "      <th>129</th>\n",
       "      <td>1/1/2017 21:30</td>\n",
       "      <td>12.24</td>\n",
       "      <td>70.1</td>\n",
       "      <td>0.077</td>\n",
       "      <td>0.073</td>\n",
       "      <td>0.089</td>\n",
       "      <td>38643.03797</td>\n",
       "      <td>24827.96353</td>\n",
       "      <td>25359.03614</td>\n",
       "      <td>2017-01-01</td>\n",
       "      <td>21:30:00</td>\n",
       "    </tr>\n",
       "    <tr>\n",
       "      <th>282</th>\n",
       "      <td>1/2/2017 23:00</td>\n",
       "      <td>12.82</td>\n",
       "      <td>70.1</td>\n",
       "      <td>0.075</td>\n",
       "      <td>0.077</td>\n",
       "      <td>0.100</td>\n",
       "      <td>32785.82278</td>\n",
       "      <td>21753.19149</td>\n",
       "      <td>21166.26506</td>\n",
       "      <td>2017-01-02</td>\n",
       "      <td>23:00:00</td>\n",
       "    </tr>\n",
       "    <tr>\n",
       "      <th>504</th>\n",
       "      <td>1/4/2017 12:00</td>\n",
       "      <td>11.47</td>\n",
       "      <td>70.1</td>\n",
       "      <td>0.085</td>\n",
       "      <td>466.400</td>\n",
       "      <td>37.490</td>\n",
       "      <td>33873.41772</td>\n",
       "      <td>21942.85714</td>\n",
       "      <td>16267.95181</td>\n",
       "      <td>2017-01-04</td>\n",
       "      <td>12:00:00</td>\n",
       "    </tr>\n",
       "    <tr>\n",
       "      <th>692</th>\n",
       "      <td>1/5/2017 19:20</td>\n",
       "      <td>12.47</td>\n",
       "      <td>70.1</td>\n",
       "      <td>0.081</td>\n",
       "      <td>0.062</td>\n",
       "      <td>0.108</td>\n",
       "      <td>43819.74684</td>\n",
       "      <td>27625.53191</td>\n",
       "      <td>25648.19277</td>\n",
       "      <td>2017-01-05</td>\n",
       "      <td>19:20:00</td>\n",
       "    </tr>\n",
       "    <tr>\n",
       "      <th>824</th>\n",
       "      <td>1/6/2017 17:20</td>\n",
       "      <td>14.99</td>\n",
       "      <td>70.1</td>\n",
       "      <td>0.086</td>\n",
       "      <td>42.350</td>\n",
       "      <td>42.440</td>\n",
       "      <td>35617.21519</td>\n",
       "      <td>23117.32523</td>\n",
       "      <td>20732.53012</td>\n",
       "      <td>2017-01-06</td>\n",
       "      <td>17:20:00</td>\n",
       "    </tr>\n",
       "    <tr>\n",
       "      <th>1061</th>\n",
       "      <td>1/8/2017 8:50</td>\n",
       "      <td>12.44</td>\n",
       "      <td>70.1</td>\n",
       "      <td>0.087</td>\n",
       "      <td>25.750</td>\n",
       "      <td>22.120</td>\n",
       "      <td>22316.96203</td>\n",
       "      <td>12922.79635</td>\n",
       "      <td>11861.20482</td>\n",
       "      <td>2017-01-08</td>\n",
       "      <td>08:50:00</td>\n",
       "    </tr>\n",
       "    <tr>\n",
       "      <th>1116</th>\n",
       "      <td>1/8/2017 18:00</td>\n",
       "      <td>15.40</td>\n",
       "      <td>70.1</td>\n",
       "      <td>0.068</td>\n",
       "      <td>26.820</td>\n",
       "      <td>28.130</td>\n",
       "      <td>40313.92405</td>\n",
       "      <td>24149.54407</td>\n",
       "      <td>25341.68675</td>\n",
       "      <td>2017-01-08</td>\n",
       "      <td>18:00:00</td>\n",
       "    </tr>\n",
       "    <tr>\n",
       "      <th>1159</th>\n",
       "      <td>1/9/2017 1:10</td>\n",
       "      <td>15.13</td>\n",
       "      <td>70.1</td>\n",
       "      <td>0.078</td>\n",
       "      <td>0.048</td>\n",
       "      <td>0.111</td>\n",
       "      <td>23210.12658</td>\n",
       "      <td>14596.96049</td>\n",
       "      <td>15620.24096</td>\n",
       "      <td>2017-01-09</td>\n",
       "      <td>01:10:00</td>\n",
       "    </tr>\n",
       "    <tr>\n",
       "      <th>1581</th>\n",
       "      <td>1/11/2017 23:30</td>\n",
       "      <td>12.03</td>\n",
       "      <td>70.1</td>\n",
       "      <td>0.086</td>\n",
       "      <td>0.055</td>\n",
       "      <td>0.104</td>\n",
       "      <td>31916.96203</td>\n",
       "      <td>19973.25228</td>\n",
       "      <td>19396.62651</td>\n",
       "      <td>2017-01-11</td>\n",
       "      <td>23:30:00</td>\n",
       "    </tr>\n",
       "    <tr>\n",
       "      <th>2193</th>\n",
       "      <td>1/16/2017 5:30</td>\n",
       "      <td>14.69</td>\n",
       "      <td>70.1</td>\n",
       "      <td>0.076</td>\n",
       "      <td>0.040</td>\n",
       "      <td>0.137</td>\n",
       "      <td>21915.94937</td>\n",
       "      <td>13995.13678</td>\n",
       "      <td>14810.60241</td>\n",
       "      <td>2017-01-16</td>\n",
       "      <td>05:30:00</td>\n",
       "    </tr>\n",
       "  </tbody>\n",
       "</table>\n",
       "</div>"
      ],
      "text/plain": [
       "             DateTime  Temperature  Humidity  Wind Speed  \\\n",
       "129    1/1/2017 21:30        12.24      70.1       0.077   \n",
       "282    1/2/2017 23:00        12.82      70.1       0.075   \n",
       "504    1/4/2017 12:00        11.47      70.1       0.085   \n",
       "692    1/5/2017 19:20        12.47      70.1       0.081   \n",
       "824    1/6/2017 17:20        14.99      70.1       0.086   \n",
       "1061    1/8/2017 8:50        12.44      70.1       0.087   \n",
       "1116   1/8/2017 18:00        15.40      70.1       0.068   \n",
       "1159    1/9/2017 1:10        15.13      70.1       0.078   \n",
       "1581  1/11/2017 23:30        12.03      70.1       0.086   \n",
       "2193   1/16/2017 5:30        14.69      70.1       0.076   \n",
       "\n",
       "      general diffuse flows  diffuse flows  Zone 1 Power Consumption  \\\n",
       "129                   0.073          0.089               38643.03797   \n",
       "282                   0.077          0.100               32785.82278   \n",
       "504                 466.400         37.490               33873.41772   \n",
       "692                   0.062          0.108               43819.74684   \n",
       "824                  42.350         42.440               35617.21519   \n",
       "1061                 25.750         22.120               22316.96203   \n",
       "1116                 26.820         28.130               40313.92405   \n",
       "1159                  0.048          0.111               23210.12658   \n",
       "1581                  0.055          0.104               31916.96203   \n",
       "2193                  0.040          0.137               21915.94937   \n",
       "\n",
       "      Zone 2  Power Consumption  Zone 3  Power Consumption        Date  \\\n",
       "129                 24827.96353                25359.03614  2017-01-01   \n",
       "282                 21753.19149                21166.26506  2017-01-02   \n",
       "504                 21942.85714                16267.95181  2017-01-04   \n",
       "692                 27625.53191                25648.19277  2017-01-05   \n",
       "824                 23117.32523                20732.53012  2017-01-06   \n",
       "1061                12922.79635                11861.20482  2017-01-08   \n",
       "1116                24149.54407                25341.68675  2017-01-08   \n",
       "1159                14596.96049                15620.24096  2017-01-09   \n",
       "1581                19973.25228                19396.62651  2017-01-11   \n",
       "2193                13995.13678                14810.60241  2017-01-16   \n",
       "\n",
       "          Time  \n",
       "129   21:30:00  \n",
       "282   23:00:00  \n",
       "504   12:00:00  \n",
       "692   19:20:00  \n",
       "824   17:20:00  \n",
       "1061  08:50:00  \n",
       "1116  18:00:00  \n",
       "1159  01:10:00  \n",
       "1581  23:30:00  \n",
       "2193  05:30:00  "
      ]
     },
     "execution_count": 26,
     "metadata": {},
     "output_type": "execute_result"
    }
   ],
   "source": [
    "b"
   ]
  },
  {
   "cell_type": "markdown",
   "id": "3bbedbe8-583e-417c-a793-d9d42983d838",
   "metadata": {},
   "source": [
    "### Que - Date and time at which zone 2 power consumption was high and temperature and humidity at that time with 10 timimgs"
   ]
  },
  {
   "cell_type": "code",
   "execution_count": 39,
   "id": "2bd00a98-392a-415c-a263-73492d9e8a27",
   "metadata": {},
   "outputs": [],
   "source": [
    "d=df.sort_values('Zone 2  Power Consumption',ascending=False).head(10)"
   ]
  },
  {
   "cell_type": "code",
   "execution_count": 40,
   "id": "ffb92c5d-b714-4399-b491-89af56812e9a",
   "metadata": {},
   "outputs": [
    {
     "data": {
      "text/html": [
       "<div>\n",
       "<style scoped>\n",
       "    .dataframe tbody tr th:only-of-type {\n",
       "        vertical-align: middle;\n",
       "    }\n",
       "\n",
       "    .dataframe tbody tr th {\n",
       "        vertical-align: top;\n",
       "    }\n",
       "\n",
       "    .dataframe thead th {\n",
       "        text-align: right;\n",
       "    }\n",
       "</style>\n",
       "<table border=\"1\" class=\"dataframe\">\n",
       "  <thead>\n",
       "    <tr style=\"text-align: right;\">\n",
       "      <th></th>\n",
       "      <th>Date</th>\n",
       "      <th>Time</th>\n",
       "      <th>Temperature</th>\n",
       "      <th>Humidity</th>\n",
       "    </tr>\n",
       "  </thead>\n",
       "  <tbody>\n",
       "    <tr>\n",
       "      <th>29494</th>\n",
       "      <td>2017-07-24</td>\n",
       "      <td>19:40:00</td>\n",
       "      <td>29.79</td>\n",
       "      <td>35.68</td>\n",
       "    </tr>\n",
       "    <tr>\n",
       "      <th>29493</th>\n",
       "      <td>2017-07-24</td>\n",
       "      <td>19:30:00</td>\n",
       "      <td>29.94</td>\n",
       "      <td>35.98</td>\n",
       "    </tr>\n",
       "    <tr>\n",
       "      <th>30936</th>\n",
       "      <td>2017-08-03</td>\n",
       "      <td>20:00:00</td>\n",
       "      <td>29.66</td>\n",
       "      <td>46.88</td>\n",
       "    </tr>\n",
       "    <tr>\n",
       "      <th>30938</th>\n",
       "      <td>2017-08-03</td>\n",
       "      <td>20:20:00</td>\n",
       "      <td>29.27</td>\n",
       "      <td>49.52</td>\n",
       "    </tr>\n",
       "    <tr>\n",
       "      <th>30935</th>\n",
       "      <td>2017-08-03</td>\n",
       "      <td>19:50:00</td>\n",
       "      <td>29.91</td>\n",
       "      <td>45.82</td>\n",
       "    </tr>\n",
       "    <tr>\n",
       "      <th>30939</th>\n",
       "      <td>2017-08-03</td>\n",
       "      <td>20:30:00</td>\n",
       "      <td>29.16</td>\n",
       "      <td>50.12</td>\n",
       "    </tr>\n",
       "    <tr>\n",
       "      <th>30937</th>\n",
       "      <td>2017-08-03</td>\n",
       "      <td>20:10:00</td>\n",
       "      <td>29.39</td>\n",
       "      <td>48.08</td>\n",
       "    </tr>\n",
       "    <tr>\n",
       "      <th>30940</th>\n",
       "      <td>2017-08-03</td>\n",
       "      <td>20:40:00</td>\n",
       "      <td>29.05</td>\n",
       "      <td>50.88</td>\n",
       "    </tr>\n",
       "    <tr>\n",
       "      <th>31514</th>\n",
       "      <td>2017-08-07</td>\n",
       "      <td>20:20:00</td>\n",
       "      <td>27.24</td>\n",
       "      <td>78.00</td>\n",
       "    </tr>\n",
       "    <tr>\n",
       "      <th>31801</th>\n",
       "      <td>2017-08-09</td>\n",
       "      <td>20:10:00</td>\n",
       "      <td>31.09</td>\n",
       "      <td>50.65</td>\n",
       "    </tr>\n",
       "  </tbody>\n",
       "</table>\n",
       "</div>"
      ],
      "text/plain": [
       "             Date      Time  Temperature  Humidity\n",
       "29494  2017-07-24  19:40:00        29.79     35.68\n",
       "29493  2017-07-24  19:30:00        29.94     35.98\n",
       "30936  2017-08-03  20:00:00        29.66     46.88\n",
       "30938  2017-08-03  20:20:00        29.27     49.52\n",
       "30935  2017-08-03  19:50:00        29.91     45.82\n",
       "30939  2017-08-03  20:30:00        29.16     50.12\n",
       "30937  2017-08-03  20:10:00        29.39     48.08\n",
       "30940  2017-08-03  20:40:00        29.05     50.88\n",
       "31514  2017-08-07  20:20:00        27.24     78.00\n",
       "31801  2017-08-09  20:10:00        31.09     50.65"
      ]
     },
     "execution_count": 40,
     "metadata": {},
     "output_type": "execute_result"
    }
   ],
   "source": [
    "d.loc[:,['Date','Time','Temperature','Humidity']]"
   ]
  },
  {
   "cell_type": "markdown",
   "id": "7b68c5c4-7dd8-4218-a521-87aa2207e98d",
   "metadata": {},
   "source": [
    "### Que - Date and time at which zone 2 power consumption was low with 10 timings"
   ]
  },
  {
   "cell_type": "code",
   "execution_count": 41,
   "id": "547c64cc-b1ed-4942-ba81-354f77e56ce4",
   "metadata": {},
   "outputs": [],
   "source": [
    "l=df.sort_values('Zone 2  Power Consumption').head(10)"
   ]
  },
  {
   "cell_type": "code",
   "execution_count": 42,
   "id": "2c0a1854-e79c-4786-bcae-48b59c8d133d",
   "metadata": {},
   "outputs": [
    {
     "data": {
      "text/html": [
       "<div>\n",
       "<style scoped>\n",
       "    .dataframe tbody tr th:only-of-type {\n",
       "        vertical-align: middle;\n",
       "    }\n",
       "\n",
       "    .dataframe tbody tr th {\n",
       "        vertical-align: top;\n",
       "    }\n",
       "\n",
       "    .dataframe thead th {\n",
       "        text-align: right;\n",
       "    }\n",
       "</style>\n",
       "<table border=\"1\" class=\"dataframe\">\n",
       "  <thead>\n",
       "    <tr style=\"text-align: right;\">\n",
       "      <th></th>\n",
       "      <th>Date</th>\n",
       "      <th>Time</th>\n",
       "    </tr>\n",
       "  </thead>\n",
       "  <tbody>\n",
       "    <tr>\n",
       "      <th>13141</th>\n",
       "      <td>2017-04-02</td>\n",
       "      <td>06:10:00</td>\n",
       "    </tr>\n",
       "    <tr>\n",
       "      <th>13144</th>\n",
       "      <td>2017-04-02</td>\n",
       "      <td>06:40:00</td>\n",
       "    </tr>\n",
       "    <tr>\n",
       "      <th>13142</th>\n",
       "      <td>2017-04-02</td>\n",
       "      <td>06:20:00</td>\n",
       "    </tr>\n",
       "    <tr>\n",
       "      <th>13143</th>\n",
       "      <td>2017-04-02</td>\n",
       "      <td>06:30:00</td>\n",
       "    </tr>\n",
       "    <tr>\n",
       "      <th>13145</th>\n",
       "      <td>2017-04-02</td>\n",
       "      <td>06:50:00</td>\n",
       "    </tr>\n",
       "    <tr>\n",
       "      <th>13140</th>\n",
       "      <td>2017-04-02</td>\n",
       "      <td>06:00:00</td>\n",
       "    </tr>\n",
       "    <tr>\n",
       "      <th>13146</th>\n",
       "      <td>2017-04-02</td>\n",
       "      <td>07:00:00</td>\n",
       "    </tr>\n",
       "    <tr>\n",
       "      <th>13147</th>\n",
       "      <td>2017-04-02</td>\n",
       "      <td>07:10:00</td>\n",
       "    </tr>\n",
       "    <tr>\n",
       "      <th>13148</th>\n",
       "      <td>2017-04-02</td>\n",
       "      <td>07:20:00</td>\n",
       "    </tr>\n",
       "    <tr>\n",
       "      <th>20195</th>\n",
       "      <td>2017-05-21</td>\n",
       "      <td>05:50:00</td>\n",
       "    </tr>\n",
       "  </tbody>\n",
       "</table>\n",
       "</div>"
      ],
      "text/plain": [
       "             Date      Time\n",
       "13141  2017-04-02  06:10:00\n",
       "13144  2017-04-02  06:40:00\n",
       "13142  2017-04-02  06:20:00\n",
       "13143  2017-04-02  06:30:00\n",
       "13145  2017-04-02  06:50:00\n",
       "13140  2017-04-02  06:00:00\n",
       "13146  2017-04-02  07:00:00\n",
       "13147  2017-04-02  07:10:00\n",
       "13148  2017-04-02  07:20:00\n",
       "20195  2017-05-21  05:50:00"
      ]
     },
     "execution_count": 42,
     "metadata": {},
     "output_type": "execute_result"
    }
   ],
   "source": [
    "l.loc[:,['Date','Time']]"
   ]
  },
  {
   "cell_type": "code",
   "execution_count": null,
   "id": "246b85db-40dd-48b9-81f3-5058c4165d37",
   "metadata": {},
   "outputs": [],
   "source": []
  }
 ],
 "metadata": {
  "kernelspec": {
   "display_name": "Python 3 (ipykernel)",
   "language": "python",
   "name": "python3"
  },
  "language_info": {
   "codemirror_mode": {
    "name": "ipython",
    "version": 3
   },
   "file_extension": ".py",
   "mimetype": "text/x-python",
   "name": "python",
   "nbconvert_exporter": "python",
   "pygments_lexer": "ipython3",
   "version": "3.9.12"
  }
 },
 "nbformat": 4,
 "nbformat_minor": 5
}
