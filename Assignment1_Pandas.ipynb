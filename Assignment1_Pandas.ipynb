{
 "cells": [
  {
   "cell_type": "markdown",
   "id": "4893e5f5-1be2-4b3f-a941-baadebc25a62",
   "metadata": {},
   "source": [
    "# Assignment 6"
   ]
  },
  {
   "cell_type": "markdown",
   "id": "f3c795c8-846e-431b-bd50-c60e0ea00848",
   "metadata": {},
   "source": [
    "## Que 1.\n",
    "### Find out the number of rows and columns using the shape attribute."
   ]
  },
  {
   "cell_type": "code",
   "execution_count": 1,
   "id": "9db61060-70e4-4f55-b48e-4cb09e265b4c",
   "metadata": {},
   "outputs": [],
   "source": [
    "import numpy as np\n",
    "import pandas as pd\n",
    "df = pd.read_csv(\"Netflix_top_10.csv\")"
   ]
  },
  {
   "cell_type": "code",
   "execution_count": 2,
   "id": "fec484d7-0db9-40b9-9a21-36dd9503ba19",
   "metadata": {},
   "outputs": [
    {
     "data": {
      "text/plain": [
       "(400, 6)"
      ]
     },
     "execution_count": 2,
     "metadata": {},
     "output_type": "execute_result"
    }
   ],
   "source": [
    "df.shape"
   ]
  },
  {
   "cell_type": "markdown",
   "id": "44ea17d8-c289-45ac-b493-0fdd1d4609ec",
   "metadata": {},
   "source": [
    "## Que 2.\n",
    "### Check the first eight rows using the head method."
   ]
  },
  {
   "cell_type": "code",
   "execution_count": 3,
   "id": "029f6f01-c168-4a23-8e20-7a5585909acf",
   "metadata": {},
   "outputs": [
    {
     "data": {
      "text/html": [
       "<div>\n",
       "<style scoped>\n",
       "    .dataframe tbody tr th:only-of-type {\n",
       "        vertical-align: middle;\n",
       "    }\n",
       "\n",
       "    .dataframe tbody tr th {\n",
       "        vertical-align: top;\n",
       "    }\n",
       "\n",
       "    .dataframe thead th {\n",
       "        text-align: right;\n",
       "    }\n",
       "</style>\n",
       "<table border=\"1\" class=\"dataframe\">\n",
       "  <thead>\n",
       "    <tr style=\"text-align: right;\">\n",
       "      <th></th>\n",
       "      <th>week</th>\n",
       "      <th>category</th>\n",
       "      <th>weekly_rank</th>\n",
       "      <th>show_title</th>\n",
       "      <th>season_title</th>\n",
       "      <th>cumulative_weeks_in_top_10</th>\n",
       "    </tr>\n",
       "  </thead>\n",
       "  <tbody>\n",
       "    <tr>\n",
       "      <th>0</th>\n",
       "      <td>2021-11-14</td>\n",
       "      <td>Films (English)</td>\n",
       "      <td>1</td>\n",
       "      <td>Red Notice</td>\n",
       "      <td>NaN</td>\n",
       "      <td>1</td>\n",
       "    </tr>\n",
       "    <tr>\n",
       "      <th>1</th>\n",
       "      <td>2021-11-14</td>\n",
       "      <td>Films (English)</td>\n",
       "      <td>2</td>\n",
       "      <td>Meenakshi Sundareshwar</td>\n",
       "      <td>NaN</td>\n",
       "      <td>2</td>\n",
       "    </tr>\n",
       "    <tr>\n",
       "      <th>2</th>\n",
       "      <td>2021-11-14</td>\n",
       "      <td>Films (English)</td>\n",
       "      <td>3</td>\n",
       "      <td>Doctor (Tamil)</td>\n",
       "      <td>NaN</td>\n",
       "      <td>2</td>\n",
       "    </tr>\n",
       "    <tr>\n",
       "      <th>3</th>\n",
       "      <td>2021-11-14</td>\n",
       "      <td>Films (English)</td>\n",
       "      <td>4</td>\n",
       "      <td>Love Hard</td>\n",
       "      <td>NaN</td>\n",
       "      <td>2</td>\n",
       "    </tr>\n",
       "    <tr>\n",
       "      <th>4</th>\n",
       "      <td>2021-11-14</td>\n",
       "      <td>Films (English)</td>\n",
       "      <td>5</td>\n",
       "      <td>Doctor (Telugu)</td>\n",
       "      <td>NaN</td>\n",
       "      <td>2</td>\n",
       "    </tr>\n",
       "    <tr>\n",
       "      <th>5</th>\n",
       "      <td>2021-11-14</td>\n",
       "      <td>Films (English)</td>\n",
       "      <td>6</td>\n",
       "      <td>Army of Thieves</td>\n",
       "      <td>NaN</td>\n",
       "      <td>3</td>\n",
       "    </tr>\n",
       "    <tr>\n",
       "      <th>6</th>\n",
       "      <td>2021-11-14</td>\n",
       "      <td>Films (English)</td>\n",
       "      <td>7</td>\n",
       "      <td>Maha Samudram</td>\n",
       "      <td>NaN</td>\n",
       "      <td>1</td>\n",
       "    </tr>\n",
       "    <tr>\n",
       "      <th>7</th>\n",
       "      <td>2021-11-14</td>\n",
       "      <td>Films (English)</td>\n",
       "      <td>8</td>\n",
       "      <td>Monster Hunter</td>\n",
       "      <td>NaN</td>\n",
       "      <td>1</td>\n",
       "    </tr>\n",
       "  </tbody>\n",
       "</table>\n",
       "</div>"
      ],
      "text/plain": [
       "         week         category  weekly_rank              show_title  \\\n",
       "0  2021-11-14  Films (English)            1              Red Notice   \n",
       "1  2021-11-14  Films (English)            2  Meenakshi Sundareshwar   \n",
       "2  2021-11-14  Films (English)            3          Doctor (Tamil)   \n",
       "3  2021-11-14  Films (English)            4               Love Hard   \n",
       "4  2021-11-14  Films (English)            5         Doctor (Telugu)   \n",
       "5  2021-11-14  Films (English)            6         Army of Thieves   \n",
       "6  2021-11-14  Films (English)            7           Maha Samudram   \n",
       "7  2021-11-14  Films (English)            8          Monster Hunter   \n",
       "\n",
       "  season_title  cumulative_weeks_in_top_10  \n",
       "0          NaN                           1  \n",
       "1          NaN                           2  \n",
       "2          NaN                           2  \n",
       "3          NaN                           2  \n",
       "4          NaN                           2  \n",
       "5          NaN                           3  \n",
       "6          NaN                           1  \n",
       "7          NaN                           1  "
      ]
     },
     "execution_count": 3,
     "metadata": {},
     "output_type": "execute_result"
    }
   ],
   "source": [
    "df.head(8)"
   ]
  },
  {
   "cell_type": "markdown",
   "id": "1672fb52-891e-4365-af3d-d13eb44bdffb",
   "metadata": {},
   "source": [
    "## Que 3\n",
    "### Use the describe method on this dataframe."
   ]
  },
  {
   "cell_type": "code",
   "execution_count": 4,
   "id": "60bf5b2c-00bd-43f7-8959-8fc106650e49",
   "metadata": {},
   "outputs": [
    {
     "data": {
      "text/plain": [
       "<bound method NDFrame.describe of            week         category  weekly_rank              show_title  \\\n",
       "0    2021-11-14  Films (English)            1              Red Notice   \n",
       "1    2021-11-14  Films (English)            2  Meenakshi Sundareshwar   \n",
       "2    2021-11-14  Films (English)            3          Doctor (Tamil)   \n",
       "3    2021-11-14  Films (English)            4               Love Hard   \n",
       "4    2021-11-14  Films (English)            5         Doctor (Telugu)   \n",
       "..          ...              ...          ...                     ...   \n",
       "395  2021-07-04     TV (English)            6                 Lucifer   \n",
       "396  2021-07-04     TV (English)            7                 Lucifer   \n",
       "397  2021-07-04     TV (English)            8                 Friends   \n",
       "398  2021-07-04     TV (English)            9                 Friends   \n",
       "399  2021-07-04     TV (English)           10                 Lucifer   \n",
       "\n",
       "          season_title  cumulative_weeks_in_top_10  \n",
       "0                  NaN                           1  \n",
       "1                  NaN                           2  \n",
       "2                  NaN                           2  \n",
       "3                  NaN                           2  \n",
       "4                  NaN                           2  \n",
       "..                 ...                         ...  \n",
       "395  Lucifer: Season 3                           1  \n",
       "396  Lucifer: Season 2                           1  \n",
       "397  Friends: Season 6                           1  \n",
       "398  Friends: Season 5                           1  \n",
       "399  Lucifer: Season 1                           1  \n",
       "\n",
       "[400 rows x 6 columns]>"
      ]
     },
     "execution_count": 4,
     "metadata": {},
     "output_type": "execute_result"
    }
   ],
   "source": [
    "df.describe"
   ]
  },
  {
   "cell_type": "markdown",
   "id": "a6a059a6-002d-413b-a2ff-e9268d529ca9",
   "metadata": {},
   "source": [
    "## Que 4.\n",
    "### In which months was the show “Friends” in the top 10?"
   ]
  },
  {
   "cell_type": "code",
   "execution_count": 39,
   "id": "4f3d2a14-b22c-418b-a2f5-7ea213a16ed5",
   "metadata": {},
   "outputs": [],
   "source": [
    "abc=df[(df.show_title=='Friends') & (df.weekly_rank<=10)].week"
   ]
  },
  {
   "cell_type": "code",
   "execution_count": 40,
   "id": "df523f0a-d0c2-40c6-a6cb-e5ffcf2a47c4",
   "metadata": {},
   "outputs": [
    {
     "name": "stdout",
     "output_type": "stream",
     "text": [
      "{'07'}\n"
     ]
    }
   ],
   "source": [
    "months=set()\n",
    "for i in abc:\n",
    "    months.update({i[5:7]})\n",
    "print(months)"
   ]
  },
  {
   "cell_type": "code",
   "execution_count": 37,
   "id": "d1aa1c09-bf4a-48b6-adf9-e9375edd4fde",
   "metadata": {},
   "outputs": [
    {
     "data": {
      "text/plain": [
       "359    2021-07-18\n",
       "377    2021-07-11\n",
       "379    2021-07-11\n",
       "397    2021-07-04\n",
       "398    2021-07-04\n",
       "Name: week, dtype: object"
      ]
     },
     "execution_count": 37,
     "metadata": {},
     "output_type": "execute_result"
    }
   ],
   "source": [
    "abc.week"
   ]
  },
  {
   "cell_type": "code",
   "execution_count": 34,
   "id": "88458f84-2064-47e8-89fd-06063262a620",
   "metadata": {},
   "outputs": [
    {
     "data": {
      "text/html": [
       "<div>\n",
       "<style scoped>\n",
       "    .dataframe tbody tr th:only-of-type {\n",
       "        vertical-align: middle;\n",
       "    }\n",
       "\n",
       "    .dataframe tbody tr th {\n",
       "        vertical-align: top;\n",
       "    }\n",
       "\n",
       "    .dataframe thead th {\n",
       "        text-align: right;\n",
       "    }\n",
       "</style>\n",
       "<table border=\"1\" class=\"dataframe\">\n",
       "  <thead>\n",
       "    <tr style=\"text-align: right;\">\n",
       "      <th></th>\n",
       "      <th>week</th>\n",
       "      <th>category</th>\n",
       "      <th>weekly_rank</th>\n",
       "      <th>show_title</th>\n",
       "      <th>season_title</th>\n",
       "      <th>cumulative_weeks_in_top_10</th>\n",
       "      <th>month</th>\n",
       "    </tr>\n",
       "  </thead>\n",
       "  <tbody>\n",
       "    <tr>\n",
       "      <th>0</th>\n",
       "      <td>2021-07-18</td>\n",
       "      <td>TV (English)</td>\n",
       "      <td>10</td>\n",
       "      <td>Friends</td>\n",
       "      <td>Friends: Season 6</td>\n",
       "      <td>3</td>\n",
       "      <td>7</td>\n",
       "    </tr>\n",
       "    <tr>\n",
       "      <th>1</th>\n",
       "      <td>2021-07-11</td>\n",
       "      <td>TV (English)</td>\n",
       "      <td>8</td>\n",
       "      <td>Friends</td>\n",
       "      <td>Friends: Season 6</td>\n",
       "      <td>2</td>\n",
       "      <td>7</td>\n",
       "    </tr>\n",
       "    <tr>\n",
       "      <th>2</th>\n",
       "      <td>2021-07-11</td>\n",
       "      <td>TV (English)</td>\n",
       "      <td>10</td>\n",
       "      <td>Friends</td>\n",
       "      <td>Friends: Season 5</td>\n",
       "      <td>2</td>\n",
       "      <td>7</td>\n",
       "    </tr>\n",
       "    <tr>\n",
       "      <th>3</th>\n",
       "      <td>2021-07-04</td>\n",
       "      <td>TV (English)</td>\n",
       "      <td>8</td>\n",
       "      <td>Friends</td>\n",
       "      <td>Friends: Season 6</td>\n",
       "      <td>1</td>\n",
       "      <td>7</td>\n",
       "    </tr>\n",
       "    <tr>\n",
       "      <th>4</th>\n",
       "      <td>2021-07-04</td>\n",
       "      <td>TV (English)</td>\n",
       "      <td>9</td>\n",
       "      <td>Friends</td>\n",
       "      <td>Friends: Season 5</td>\n",
       "      <td>1</td>\n",
       "      <td>7</td>\n",
       "    </tr>\n",
       "  </tbody>\n",
       "</table>\n",
       "</div>"
      ],
      "text/plain": [
       "         week      category  weekly_rank show_title       season_title  \\\n",
       "0  2021-07-18  TV (English)           10    Friends  Friends: Season 6   \n",
       "1  2021-07-11  TV (English)            8    Friends  Friends: Season 6   \n",
       "2  2021-07-11  TV (English)           10    Friends  Friends: Season 5   \n",
       "3  2021-07-04  TV (English)            8    Friends  Friends: Season 6   \n",
       "4  2021-07-04  TV (English)            9    Friends  Friends: Season 5   \n",
       "\n",
       "   cumulative_weeks_in_top_10  month  \n",
       "0                           3      7  \n",
       "1                           2      7  \n",
       "2                           2      7  \n",
       "3                           1      7  \n",
       "4                           1      7  "
      ]
     },
     "execution_count": 36,
     "metadata": {},
     "output_type": "execute_result"
    }
   ],
   "source": [
    "abc.d"
   ]
  },
  {
   "cell_type": "markdown",
   "id": "3a19135a-be70-4424-b592-0bdb35b4fc94",
   "metadata": {},
   "source": [
    "## Que 5.\n",
    "### Which TV show was in the top 10 for a long time?"
   ]
  },
  {
   "cell_type": "code",
   "execution_count": 8,
   "id": "540b6ac8-905c-4d07-84e1-8e31d4eebcd6",
   "metadata": {},
   "outputs": [],
   "source": [
    "x= df[(df.category=='TV (English)') & (df.weekly_rank<=10)]"
   ]
  },
  {
   "cell_type": "code",
   "execution_count": 9,
   "id": "ac0f7c29-f563-4f37-bdc8-0f5ebcbaff3c",
   "metadata": {},
   "outputs": [
    {
     "data": {
      "text/html": [
       "<div>\n",
       "<style scoped>\n",
       "    .dataframe tbody tr th:only-of-type {\n",
       "        vertical-align: middle;\n",
       "    }\n",
       "\n",
       "    .dataframe tbody tr th {\n",
       "        vertical-align: top;\n",
       "    }\n",
       "\n",
       "    .dataframe thead th {\n",
       "        text-align: right;\n",
       "    }\n",
       "</style>\n",
       "<table border=\"1\" class=\"dataframe\">\n",
       "  <thead>\n",
       "    <tr style=\"text-align: right;\">\n",
       "      <th></th>\n",
       "      <th>week</th>\n",
       "      <th>category</th>\n",
       "      <th>weekly_rank</th>\n",
       "      <th>show_title</th>\n",
       "      <th>season_title</th>\n",
       "      <th>cumulative_weeks_in_top_10</th>\n",
       "      <th>month</th>\n",
       "    </tr>\n",
       "  </thead>\n",
       "  <tbody>\n",
       "    <tr>\n",
       "      <th>16</th>\n",
       "      <td>2021-11-14</td>\n",
       "      <td>TV (English)</td>\n",
       "      <td>7</td>\n",
       "      <td>Money Heist</td>\n",
       "      <td>Money Heist: Part 1</td>\n",
       "      <td>20</td>\n",
       "      <td>11</td>\n",
       "    </tr>\n",
       "  </tbody>\n",
       "</table>\n",
       "</div>"
      ],
      "text/plain": [
       "          week      category  weekly_rank   show_title         season_title  \\\n",
       "16  2021-11-14  TV (English)            7  Money Heist  Money Heist: Part 1   \n",
       "\n",
       "    cumulative_weeks_in_top_10  month  \n",
       "16                          20     11  "
      ]
     },
     "execution_count": 9,
     "metadata": {},
     "output_type": "execute_result"
    }
   ],
   "source": [
    "x.sort_values('cumulative_weeks_in_top_10',ascending=False).head(1)"
   ]
  },
  {
   "cell_type": "markdown",
   "id": "db7125ee-ac7b-4054-b095-cb25092c8c9e",
   "metadata": {},
   "source": [
    "## Que 6.\n",
    "### Which movie was in the top 10 for a long time?"
   ]
  },
  {
   "cell_type": "code",
   "execution_count": 10,
   "id": "d39edd1f-3f42-4c13-8077-a2e571e29e7a",
   "metadata": {},
   "outputs": [],
   "source": [
    "y= df[(df.category=='Films (English)') & (df.weekly_rank<=10)]"
   ]
  },
  {
   "cell_type": "code",
   "execution_count": 11,
   "id": "2b8217aa-6e96-4114-bc40-0861746f6b07",
   "metadata": {},
   "outputs": [
    {
     "data": {
      "text/html": [
       "<div>\n",
       "<style scoped>\n",
       "    .dataframe tbody tr th:only-of-type {\n",
       "        vertical-align: middle;\n",
       "    }\n",
       "\n",
       "    .dataframe tbody tr th {\n",
       "        vertical-align: top;\n",
       "    }\n",
       "\n",
       "    .dataframe thead th {\n",
       "        text-align: right;\n",
       "    }\n",
       "</style>\n",
       "<table border=\"1\" class=\"dataframe\">\n",
       "  <thead>\n",
       "    <tr style=\"text-align: right;\">\n",
       "      <th></th>\n",
       "      <th>week</th>\n",
       "      <th>category</th>\n",
       "      <th>weekly_rank</th>\n",
       "      <th>show_title</th>\n",
       "      <th>season_title</th>\n",
       "      <th>cumulative_weeks_in_top_10</th>\n",
       "      <th>month</th>\n",
       "    </tr>\n",
       "  </thead>\n",
       "  <tbody>\n",
       "    <tr>\n",
       "      <th>47</th>\n",
       "      <td>2021-10-31</td>\n",
       "      <td>Films (English)</td>\n",
       "      <td>8</td>\n",
       "      <td>Haseen Dillruba</td>\n",
       "      <td>NaN</td>\n",
       "      <td>16</td>\n",
       "      <td>10</td>\n",
       "    </tr>\n",
       "  </tbody>\n",
       "</table>\n",
       "</div>"
      ],
      "text/plain": [
       "          week         category  weekly_rank       show_title season_title  \\\n",
       "47  2021-10-31  Films (English)            8  Haseen Dillruba          NaN   \n",
       "\n",
       "    cumulative_weeks_in_top_10  month  \n",
       "47                          16     10  "
      ]
     },
     "execution_count": 11,
     "metadata": {},
     "output_type": "execute_result"
    }
   ],
   "source": [
    "y.sort_values('cumulative_weeks_in_top_10',ascending=False).head(1)"
   ]
  },
  {
   "cell_type": "markdown",
   "id": "6a795681-9b17-42e6-a4bf-fdf190e5891b",
   "metadata": {},
   "source": [
    "## Que 7."
   ]
  },
  {
   "cell_type": "markdown",
   "id": "ccc7f4db-8fad-48c3-9dde-f6d1cbcfb0ca",
   "metadata": {},
   "source": [
    "### Which movie was at number 1 position for the month of July?"
   ]
  },
  {
   "cell_type": "code",
   "execution_count": 12,
   "id": "f5ee6408-2a07-41e0-9bed-2cc510a83330",
   "metadata": {},
   "outputs": [],
   "source": [
    "z= df[(df.category=='Films (English)') & (df.weekly_rank==1) & (df.month==7)].head(1)"
   ]
  },
  {
   "cell_type": "code",
   "execution_count": 13,
   "id": "54f4948f-bd5b-471c-8668-a2c3a78ea1f6",
   "metadata": {},
   "outputs": [
    {
     "data": {
      "text/html": [
       "<div>\n",
       "<style scoped>\n",
       "    .dataframe tbody tr th:only-of-type {\n",
       "        vertical-align: middle;\n",
       "    }\n",
       "\n",
       "    .dataframe tbody tr th {\n",
       "        vertical-align: top;\n",
       "    }\n",
       "\n",
       "    .dataframe thead th {\n",
       "        text-align: right;\n",
       "    }\n",
       "</style>\n",
       "<table border=\"1\" class=\"dataframe\">\n",
       "  <thead>\n",
       "    <tr style=\"text-align: right;\">\n",
       "      <th></th>\n",
       "      <th>week</th>\n",
       "      <th>category</th>\n",
       "      <th>weekly_rank</th>\n",
       "      <th>show_title</th>\n",
       "      <th>season_title</th>\n",
       "      <th>cumulative_weeks_in_top_10</th>\n",
       "      <th>month</th>\n",
       "    </tr>\n",
       "  </thead>\n",
       "  <tbody>\n",
       "    <tr>\n",
       "      <th>320</th>\n",
       "      <td>2021-07-25</td>\n",
       "      <td>Films (English)</td>\n",
       "      <td>1</td>\n",
       "      <td>Haseen Dillruba</td>\n",
       "      <td>NaN</td>\n",
       "      <td>4</td>\n",
       "      <td>7</td>\n",
       "    </tr>\n",
       "  </tbody>\n",
       "</table>\n",
       "</div>"
      ],
      "text/plain": [
       "           week         category  weekly_rank       show_title season_title  \\\n",
       "320  2021-07-25  Films (English)            1  Haseen Dillruba          NaN   \n",
       "\n",
       "     cumulative_weeks_in_top_10  month  \n",
       "320                           4      7  "
      ]
     },
     "execution_count": 13,
     "metadata": {},
     "output_type": "execute_result"
    }
   ],
   "source": [
    "z"
   ]
  },
  {
   "cell_type": "code",
   "execution_count": null,
   "id": "ce76c5df-2de9-4e67-a4b4-183461d2b0c3",
   "metadata": {},
   "outputs": [],
   "source": []
  }
 ],
 "metadata": {
  "kernelspec": {
   "display_name": "Python 3 (ipykernel)",
   "language": "python",
   "name": "python3"
  },
  "language_info": {
   "codemirror_mode": {
    "name": "ipython",
    "version": 3
   },
   "file_extension": ".py",
   "mimetype": "text/x-python",
   "name": "python",
   "nbconvert_exporter": "python",
   "pygments_lexer": "ipython3",
   "version": "3.9.12"
  }
 },
 "nbformat": 4,
 "nbformat_minor": 5
}
