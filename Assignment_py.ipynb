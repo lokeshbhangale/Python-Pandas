{
 "cells": [
  {
   "cell_type": "markdown",
   "metadata": {
    "id": "MAp-G2XScTKH"
   },
   "source": [
    "Assignment 5"
   ]
  },
  {
   "cell_type": "markdown",
   "metadata": {
    "id": "pKw9jPTwcZFn"
   },
   "source": [
    "**Que 1. **Create a Vehicle class with attributes number of wheels, number of airbags,engine horsepower, maxspeed, mileage,etc.Create a constructor and a method that displays vehicle info"
   ]
  },
  {
   "cell_type": "code",
   "execution_count": 1,
   "metadata": {
    "id": "M92rkTzxcxCg"
   },
   "outputs": [],
   "source": [
    "class Vehicle:\n",
    "\n",
    "    ''' Vehicle class and below its attributes '''\n",
    "    def __init__(self, num_of_wheels, num_of_airbag, engine_horsepower, max_speed, mileage):\n",
    "        self.num_of_wheels = num_of_wheels\n",
    "        self.num_of_airbag = num_of_airbag\n",
    "        self.engine_horsepower = engine_horsepower\n",
    "        self.max_speed = max_speed\n",
    "        self.mileage = mileage\n",
    "    def print(self):\n",
    "        print(\"No. of Wheeler: \",self.num_of_wheels)\n",
    "        print(\"No. of airbags: \",self.num_of_airbag)\n",
    "        print(\"Engine HorsePower: \",self.engine_horsepower)\n",
    "        print(\"Max Speed: \",self.max_speed)\n",
    "        print(\"Mileage is: \", self.mileage)\n"
   ]
  },
  {
   "cell_type": "code",
   "execution_count": 2,
   "metadata": {
    "id": "_Fk7PUPVfcyf"
   },
   "outputs": [],
   "source": [
    "v1 = Vehicle(4, 6, 12, 160, 12)"
   ]
  },
  {
   "cell_type": "code",
   "execution_count": 3,
   "metadata": {
    "colab": {
     "base_uri": "https://localhost:8080/"
    },
    "id": "cuzSlVfGfqxY",
    "outputId": "15ed0a2f-9c20-4e19-b1a5-e350a3a6dba1"
   },
   "outputs": [
    {
     "name": "stdout",
     "output_type": "stream",
     "text": [
      "No. of Wheeler:  4\n",
      "No. of airbags:  6\n",
      "Engine HorsePower:  12\n",
      "Max Speed:  160\n",
      "Mileage is:  12\n"
     ]
    }
   ],
   "source": [
    "v1.print()"
   ]
  },
  {
   "cell_type": "markdown",
   "metadata": {
    "id": "gdYoVMpvigmq"
   },
   "source": [
    "Que 2. Create a child class Bus,from Vehicle class,that will inherit all of the variables and methods of the Vehicle class.This Bus class will have its own attributes – number of doors,number of seats, fare per km, etc,along with inherited attributes.Write a method to calculate bus fare by accepting distance in km as parameter"
   ]
  },
  {
   "cell_type": "code",
   "execution_count": 4,
   "metadata": {
    "id": "kpYRm7BzpmcR"
   },
   "outputs": [],
   "source": [
    "class Bus(Vehicle):\n",
    "    ''' Child class named bus will inherit properties of vehicle base class'''\n",
    "\n",
    "    def __init__(self, num_of_wheels, num_of_airbag, engine_horsepower, max_speed, mileage, num_of_doors, num_of_seats, fare_per_km):\n",
    "        Vehicle.__init__(self, num_of_wheels, num_of_airbag, engine_horsepower, max_speed, mileage)\n",
    "        self.num_of_doors = num_of_doors\n",
    "        self.num_of_seats = num_of_seats\n",
    "        self.fare_per_km = fare_per_km\n",
    "\n",
    "    def calBusFare(self):\n",
    "        travel = float(input(\"Enter distance of travel in km to calculate fare: \"))\n",
    "        fare = float(travel*self.fare_per_km)\n",
    "        b1.print()\n",
    "        print(\"Number of doors: \", self.num_of_doors)\n",
    "        print(\"Number of seats: \", self.num_of_seats)\n",
    "        print(\"Fare per km is \", self.fare_per_km)\n",
    "        print(\"Calculated bus fare is \",fare)\n",
    "    \n",
    "  "
   ]
  },
  {
   "cell_type": "code",
   "execution_count": 6,
   "metadata": {
    "id": "qQN1F8DLKUgk"
   },
   "outputs": [
    {
     "name": "stdin",
     "output_type": "stream",
     "text": [
      "Enter No. of Wheels:  6\n",
      "Enter No. of Airbags:  4\n",
      "Enter Engine Horsepower:  47\n",
      "Enter Max Speed:  140\n",
      "Enter Mileage:  17\n",
      "Enter No. of Doors:  4\n",
      "Enter No. of Seats:  22\n",
      "Enter Fare per km:  8.\n"
     ]
    }
   ],
   "source": [
    "b1 = Bus(int(input(\"Enter No. of Wheels: \")),int(input(\"Enter No. of Airbags: \")),int(input(\"Enter Engine Horsepower: \")),int(input(\"Enter Max Speed: \")),int(input(\"Enter Mileage: \")),int(input(\"Enter No. of Doors: \")),int(input(\"Enter No. of Seats: \")),float(input(\"Enter Fare per km: \")))"
   ]
  },
  {
   "cell_type": "code",
   "execution_count": 7,
   "metadata": {
    "colab": {
     "base_uri": "https://localhost:8080/"
    },
    "id": "GF4Q-yP0M9PO",
    "outputId": "3280fefe-bec5-4fdb-8bb1-b4ca77e43e0e"
   },
   "outputs": [
    {
     "name": "stdin",
     "output_type": "stream",
     "text": [
      "Enter distance of travel in km to calculate fare:  11.9\n"
     ]
    },
    {
     "name": "stdout",
     "output_type": "stream",
     "text": [
      "No. of Wheeler:  6\n",
      "No. of airbags:  4\n",
      "Engine HorsePower:  47\n",
      "Max Speed:  140\n",
      "Mileage is:  17\n",
      "Number of doors:  4\n",
      "Number of seats:  22\n",
      "Fare per km is  8.0\n",
      "Calculated bus fare is  95.2\n"
     ]
    }
   ],
   "source": [
    "b1.calBusFare()"
   ]
  },
  {
   "cell_type": "markdown",
   "metadata": {
    "id": "KpOZRs1y_7jE"
   },
   "source": [
    "Que 3. Create class BankAccount with attributes cutomer_id,customer_name,account_balance.Write methods to withdraw and deposit amounts.If during with drawing money from the account,the account balance is not sufficient,display appropriate messages.Create objects of this class and test methods to withdraw and deposit"
   ]
  },
  {
   "cell_type": "code",
   "execution_count": 176,
   "metadata": {},
   "outputs": [],
   "source": []
  },
  {
   "cell_type": "code",
   "execution_count": 15,
   "metadata": {
    "id": "CELUGe7UAWbj"
   },
   "outputs": [],
   "source": [
    "wi_balance=0\n",
    "class BankAccount:\n",
    "    '''BankAccount class and deposit,withdrawl methods to perform operations'''\n",
    "    def __init__ (self, customer_id, customer_name, account_balance):\n",
    "        self.customer_id = customer_id\n",
    "        self.customer_name = customer_name\n",
    "        self.account_balance = account_balance\n",
    "  \n",
    "    def deposit(self):\n",
    "        dep = float(input(\"Enter amount to deposit: \"))\n",
    "        final_Balance = self.account_balance + dep\n",
    "        print(\"Balance after depositing in account is \", final_Balance)\n",
    "  \n",
    "    def withdraw(self):\n",
    "        global wi_balance\n",
    "        wi = float(input(\"Enter amount to withdraw: \"))\n",
    "        wi_balance = self.account_balance - wi\n",
    "        if (wi_balance<0):\n",
    "              print(\"Account balance is not sufficient to withdraw\")\n",
    "        else:\n",
    "              print(\"Account balance after withdraw is \",wi_balance)"
   ]
  },
  {
   "cell_type": "code",
   "execution_count": 17,
   "metadata": {
    "id": "8Hg54axjDl-g"
   },
   "outputs": [],
   "source": [
    "ba1 = BankAccount(102, \"Lokesh\", 3000)"
   ]
  },
  {
   "cell_type": "code",
   "execution_count": 18,
   "metadata": {
    "colab": {
     "base_uri": "https://localhost:8080/"
    },
    "id": "NUpJyyTbDzvg",
    "outputId": "621d93c1-63d8-4d0b-a3d5-454b75b1312c"
   },
   "outputs": [
    {
     "name": "stdin",
     "output_type": "stream",
     "text": [
      "Enter amount to deposit:  100\n"
     ]
    },
    {
     "name": "stdout",
     "output_type": "stream",
     "text": [
      "Balance after depositing in account is  3100.0\n"
     ]
    }
   ],
   "source": [
    "ba1.deposit()"
   ]
  },
  {
   "cell_type": "code",
   "execution_count": 19,
   "metadata": {
    "colab": {
     "base_uri": "https://localhost:8080/"
    },
    "id": "k_WTQmRvEApn",
    "outputId": "b7f1f709-ff80-497b-d5cc-d7aa0aadde84"
   },
   "outputs": [
    {
     "name": "stdin",
     "output_type": "stream",
     "text": [
      "Enter amount to withdraw:  100\n"
     ]
    },
    {
     "name": "stdout",
     "output_type": "stream",
     "text": [
      "Account balance after withdraw is  2900.0\n"
     ]
    }
   ],
   "source": [
    "ba1.withdraw()"
   ]
  },
  {
   "cell_type": "markdown",
   "metadata": {
    "id": "dRUNgYpBFp4h"
   },
   "source": [
    "Que 4. Create class Regular Account derived from base class BankAccount.There is a penalty of Rs.10.00 if the balance falls below a minimum of Rs.3000.If customer tries to withdraw amount and balance goes below Rs.3000,deduct penalty amount from the balance and notify customer about it,and if after deducting penalty amount if balance goes in below zero notify customer about insufficient balance."
   ]
  },
  {
   "cell_type": "code",
   "execution_count": 79,
   "metadata": {
    "id": "6PjDsJhSGNPy"
   },
   "outputs": [],
   "source": [
    "class RegularAccount(BankAccount):\n",
    "    '''RegularAccount class to check account balance and apply penalty according to it'''\n",
    "    def __init__ (self, customer_id, customer_name, account_balance):\n",
    "        super().__init__(customer_id, customer_name, account_balance)\n",
    "    def penalty(self):\n",
    "        pe = 10.00\n",
    "        ch = int(input(\"You want to \\n 1. Deposit\\n 2. Withdrawl \"))\n",
    "        if (ch==1):\n",
    "            ra.deposit()\n",
    "      \n",
    "        elif (ch==2):\n",
    "            ra.withdraw()\n",
    "            if (wi_balance<3000):\n",
    "                acc = wi_balance - pe\n",
    "                print(\"Minimum balance amount breached, penalty of Rs 10.00\")\n",
    "                if (acc>=0):\n",
    "                    print(\"Account balance left is \", acc)\n",
    "                    if(acc==0):\n",
    "                        print(\"Balance is 0 Rupess INSUFFICIENT FUNDS\")\n",
    "                elif (acc<=0):\n",
    "                    print(\"Balance is 0 Rupess INSUFFICIENT FUNDS\")\n",
    "                    \n",
    "        else:\n",
    "            print(\"Invalid Selection\")"
   ]
  },
  {
   "cell_type": "code",
   "execution_count": 80,
   "metadata": {
    "id": "eUCksjNxJAyE"
   },
   "outputs": [
    {
     "name": "stdin",
     "output_type": "stream",
     "text": [
      "Enter customer id:  101\n",
      "Enter customer name:  jhg\n",
      "Enter curr account balance:  5000\n"
     ]
    }
   ],
   "source": [
    "ra = RegularAccount(int(input(\"Enter customer id: \")), input(\"Enter customer name: \"), int(input(\"Enter curr account balance: \")))"
   ]
  },
  {
   "cell_type": "code",
   "execution_count": 82,
   "metadata": {
    "id": "-lNhwXyyi1Rt"
   },
   "outputs": [
    {
     "name": "stdin",
     "output_type": "stream",
     "text": [
      "You want to \n",
      " 1. Deposit\n",
      " 2. Withdrawl  2\n",
      "Enter amount to withdraw:  4990\n"
     ]
    },
    {
     "name": "stdout",
     "output_type": "stream",
     "text": [
      "Account balance after withdraw is  10.0\n",
      "Minimum balance amount breached, penalty of Rs 10.00\n",
      "Account balance left is  0.0\n",
      "Balance is 0 Rupess INSUFFICIENT FUNDS\n"
     ]
    }
   ],
   "source": [
    "ra.penalty()"
   ]
  },
  {
   "cell_type": "code",
   "execution_count": null,
   "metadata": {},
   "outputs": [],
   "source": []
  }
 ],
 "metadata": {
  "colab": {
   "collapsed_sections": [],
   "provenance": []
  },
  "kernelspec": {
   "display_name": "Python 3 (ipykernel)",
   "language": "python",
   "name": "python3"
  },
  "language_info": {
   "codemirror_mode": {
    "name": "ipython",
    "version": 3
   },
   "file_extension": ".py",
   "mimetype": "text/x-python",
   "name": "python",
   "nbconvert_exporter": "python",
   "pygments_lexer": "ipython3",
   "version": "3.9.12"
  }
 },
 "nbformat": 4,
 "nbformat_minor": 4
}
